{
 "cells": [
  {
   "cell_type": "markdown",
   "metadata": {},
   "source": [
    "### Tokenizing data from The American Presidency Project into trigrams\n",
    "http://www.presidency.ucsb.edu/index.php"
   ]
  },
  {
   "cell_type": "markdown",
   "metadata": {},
   "source": [
    "####To Dos:\n",
    "troubleshoot function for websites with no <b/> or <i/> tags\n",
    "make code prettier"
   ]
  },
  {
   "cell_type": "code",
   "execution_count": 1,
   "metadata": {
    "collapsed": false
   },
   "outputs": [],
   "source": [
    "from nltk.collocations import * #Bad form\n",
    "from nltk.corpus import stopwords\n",
    "from nltk.tokenize import RegexpTokenizer\n",
    "import nltk\n",
    "import json\n",
    "from pprint import pprint\n",
    "LOCAL_DATA_PATH = '/Users/willsankey/political_history/data'"
   ]
  },
  {
   "cell_type": "code",
   "execution_count": 2,
   "metadata": {
    "collapsed": false
   },
   "outputs": [
    {
     "name": "stdout",
     "output_type": "stream",
     "text": [
      "[u'date', u'text', u'speaker', u'title']\n",
      "Senator Kerry. \n",
      "Yes. When the President had an opportunity to capture or kill Usama bin Laden, he took his focus off of him, outsourced the job to Afghan warlords, and Usama bin Laden escaped. Six months after he said, \"Usama bin Laden must be caught, dead or alive,\" this President was asked, \"Where is Usama bin Laden?\" He said, \"I don't know. I don't really think about him very much. I'm not that concerned.\" We need a President who stays deadly focused on the real war on terror. \n"
     ]
    }
   ],
   "source": [
    "with open(LOCAL_DATA_PATH + \"/['63163'].json\") as data_file:    \n",
    "    data = json.load(data_file)\n",
    "    \n",
    "#Prints entire debate\n",
    "#pprint(data)\n",
    "#print data.keys()\n",
    "#Print specific paragrah\n",
    "#data['16']\n",
    "#Print specific text from paragraph\n",
    "print data['16'].keys()\n",
    "print data['16']['speaker']\n",
    "print data['16']['text']"
   ]
  },
  {
   "cell_type": "code",
   "execution_count": 3,
   "metadata": {
    "collapsed": true
   },
   "outputs": [],
   "source": [
    "one_paragraph = data['16']['text']"
   ]
  },
  {
   "cell_type": "code",
   "execution_count": 4,
   "metadata": {
    "collapsed": false
   },
   "outputs": [],
   "source": [
    "tokens = RegexpTokenizer(r'\\w+')\n",
    "token = tokens.tokenize(one_paragraph)\n",
    "# print token\n",
    "# print type(token)\n",
    "# datum = ' '.join(token)\n",
    "# datum = tweet.lower()\n",
    "# # print type(one_paragraph)\n",
    "# #print datum\n",
    "# # print type(datum)\n",
    "# # datum_list = [word for word in datum]\n",
    "# # datum_list"
   ]
  },
  {
   "cell_type": "code",
   "execution_count": 5,
   "metadata": {
    "collapsed": false
   },
   "outputs": [
    {
     "data": {
      "text/plain": [
       "[u'Yes',\n",
       " u'When',\n",
       " u'President',\n",
       " u'opportunity',\n",
       " u'capture',\n",
       " u'kill',\n",
       " u'Usama',\n",
       " u'bin',\n",
       " u'Laden',\n",
       " u'took',\n",
       " u'focus',\n",
       " u'outsourced',\n",
       " u'job',\n",
       " u'Afghan',\n",
       " u'warlords',\n",
       " u'Usama',\n",
       " u'bin',\n",
       " u'Laden',\n",
       " u'escaped',\n",
       " u'Six',\n",
       " u'months',\n",
       " u'said',\n",
       " u'Usama',\n",
       " u'bin',\n",
       " u'Laden',\n",
       " u'must',\n",
       " u'caught',\n",
       " u'dead',\n",
       " u'alive',\n",
       " u'President',\n",
       " u'asked',\n",
       " u'Where',\n",
       " u'Usama',\n",
       " u'bin',\n",
       " u'Laden',\n",
       " u'He',\n",
       " u'said',\n",
       " u'I',\n",
       " u'know',\n",
       " u'I',\n",
       " u'really',\n",
       " u'think',\n",
       " u'much',\n",
       " u'I',\n",
       " u'concerned',\n",
       " u'We',\n",
       " u'need',\n",
       " u'President',\n",
       " u'stays',\n",
       " u'deadly',\n",
       " u'focused',\n",
       " u'real',\n",
       " u'war',\n",
       " u'terror']"
      ]
     },
     "execution_count": 5,
     "metadata": {},
     "output_type": "execute_result"
    }
   ],
   "source": [
    "#Remove stop words\n",
    "stops = set(stopwords.words('english'))\n",
    "filtered_words = [word for word in token if word not in stops]\n",
    "filtered_words"
   ]
  },
  {
   "cell_type": "code",
   "execution_count": 7,
   "metadata": {
    "collapsed": false
   },
   "outputs": [],
   "source": [
    "bifinder = BigramCollocationFinder.from_words(filtered_words, window_size = 2)\n",
    "#trifinder = TrigramCollocationFinder.from_words(filtered_words, window_size = 3)\n",
    "#finder1 = BigramCollocationFinder.from_words(filtered_words, window_size = 2)\n",
    "\n",
    "#finder1.apply_freq_filter(2)\n",
    "#for Bigram use this syntax --> bigram_measures = nltk.collocations.BigramAssocMeasures()\n",
    "#for Trigram use this syntax --> trigram_measures = nltk.collocations.TrigramAssocMeasures()\n",
    "#bigram_measures = nltk.collocations.BigramAssocMeasures()"
   ]
  },
  {
   "cell_type": "code",
   "execution_count": 9,
   "metadata": {
    "collapsed": false
   },
   "outputs": [
    {
     "name": "stdout",
     "output_type": "stream",
     "text": [
      "((u'outsourced', u'job'), 1)\n",
      "((u'think', u'much'), 1)\n",
      "((u'I', u'concerned'), 1)\n",
      "((u'Afghan', u'warlords'), 1)\n",
      "((u'caught', u'dead'), 1)\n",
      "((u'Laden', u'escaped'), 1)\n",
      "((u'Laden', u'must'), 1)\n",
      "((u'He', u'said'), 1)\n",
      "((u'focus', u'outsourced'), 1)\n",
      "((u'Yes', u'When'), 1)\n",
      "((u'asked', u'Where'), 1)\n",
      "((u'deadly', u'focused'), 1)\n",
      "((u'Laden', u'took'), 1)\n",
      "((u'months', u'said'), 1)\n",
      "((u'know', u'I'), 1)\n",
      "((u'focused', u'real'), 1)\n",
      "((u'Usama', u'bin'), 4)\n",
      "((u'opportunity', u'capture'), 1)\n",
      "((u'Laden', u'He'), 1)\n",
      "((u'war', u'terror'), 1)\n",
      "((u'dead', u'alive'), 1)\n",
      "((u'capture', u'kill'), 1)\n",
      "((u'warlords', u'Usama'), 1)\n",
      "((u'President', u'asked'), 1)\n",
      "((u'escaped', u'Six'), 1)\n",
      "((u'took', u'focus'), 1)\n",
      "((u'I', u'know'), 1)\n",
      "((u'alive', u'President'), 1)\n",
      "((u'job', u'Afghan'), 1)\n",
      "((u'bin', u'Laden'), 4)\n",
      "((u'stays', u'deadly'), 1)\n",
      "((u'said', u'I'), 1)\n",
      "((u'real', u'war'), 1)\n",
      "((u'much', u'I'), 1)\n",
      "((u'need', u'President'), 1)\n",
      "((u'said', u'Usama'), 1)\n",
      "((u'really', u'think'), 1)\n",
      "((u'Six', u'months'), 1)\n",
      "((u'kill', u'Usama'), 1)\n",
      "((u'When', u'President'), 1)\n",
      "((u'Where', u'Usama'), 1)\n",
      "((u'President', u'opportunity'), 1)\n",
      "((u'We', u'need'), 1)\n",
      "((u'I', u'really'), 1)\n",
      "((u'President', u'stays'), 1)\n",
      "((u'must', u'caught'), 1)\n",
      "((u'concerned', u'We'), 1)\n"
     ]
    }
   ],
   "source": [
    "for key, value in bifinder.ngram_fd.items():\n",
    "  tup = (key, value)\n",
    "  s = \" : \".join(map(str, tup))\n",
    "  print(key, value)          "
   ]
  },
  {
   "cell_type": "code",
   "execution_count": null,
   "metadata": {
    "collapsed": true
   },
   "outputs": [],
   "source": []
  }
 ],
 "metadata": {
  "kernelspec": {
   "display_name": "Python 2",
   "language": "python",
   "name": "python2"
  },
  "language_info": {
   "codemirror_mode": {
    "name": "ipython",
    "version": 2
   },
   "file_extension": ".py",
   "mimetype": "text/x-python",
   "name": "python",
   "nbconvert_exporter": "python",
   "pygments_lexer": "ipython2",
   "version": "2.7.10"
  }
 },
 "nbformat": 4,
 "nbformat_minor": 0
}

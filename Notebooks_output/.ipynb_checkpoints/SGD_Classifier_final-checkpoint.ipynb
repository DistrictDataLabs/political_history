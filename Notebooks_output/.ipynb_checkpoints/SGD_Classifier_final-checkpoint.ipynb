{
 "cells": [
  {
   "cell_type": "code",
   "execution_count": 33,
   "metadata": {
    "collapsed": true
   },
   "outputs": [],
   "source": [
    "import os\n",
    "import pickle\n",
    "import pandas as pd\n",
    "import sklearn\n",
    "import nltk\n",
    "from nltk.tokenize import RegexpTokenizer\n",
    "from nltk.stem.snowball import SnowballStemmer\n",
    "import re\n",
    "from sklearn import cross_validation\n",
    "from sklearn.feature_extraction.text import TfidfVectorizer\n",
    "from sklearn.feature_selection import SelectPercentile, f_classif, SelectKBest\n",
    "from sklearn.linear_model import SGDClassifier\n",
    "from sklearn import pipeline\n",
    "from sklearn import metrics\n",
    "from sklearn.metrics import classification_report\n",
    "import numpy as np\n",
    "\n",
    "#set data path\n",
    "LOCAL_DATA_PATH = 'C:\\Users\\JoAnna\\political_history\\processed_data'\n",
    "SAVE_PATH = 'C:\\Users\\JoAnna\\political_history\\shibboleth\\pkl_objects'\n"
   ]
  },
  {
   "cell_type": "code",
   "execution_count": 34,
   "metadata": {
    "collapsed": false
   },
   "outputs": [],
   "source": [
    "os.chdir(LOCAL_DATA_PATH)\n",
    "#import data\n",
    "labels = pickle.load(open('bow_labels.pkl', \"r\"))\n",
    "text = pickle.load(open(\"paragraph_text.pkl\", \"r\"))\n",
    "#train/test split of data (randomized)\n",
    "text_train, text_test, labels_train, labels_test = cross_validation.train_test_split(text, labels, test_size=0.3, random_state=42)"
   ]
  },
  {
   "cell_type": "code",
   "execution_count": 36,
   "metadata": {
    "collapsed": false
   },
   "outputs": [
    {
     "ename": "ImportError",
     "evalue": "No module named clean_text",
     "output_type": "error",
     "traceback": [
      "\u001b[1;31m---------------------------------------------------------------------------\u001b[0m",
      "\u001b[1;31mImportError\u001b[0m                               Traceback (most recent call last)",
      "\u001b[1;32m<ipython-input-36-15ddae451520>\u001b[0m in \u001b[0;36m<module>\u001b[1;34m()\u001b[0m\n\u001b[0;32m      2\u001b[0m \u001b[1;33m\u001b[0m\u001b[0m\n\u001b[0;32m      3\u001b[0m \u001b[1;32mfrom\u001b[0m \u001b[0msklearn\u001b[0m\u001b[1;33m.\u001b[0m\u001b[0mpipeline\u001b[0m \u001b[1;32mimport\u001b[0m \u001b[0mPipeline\u001b[0m\u001b[1;33m\u001b[0m\u001b[0m\n\u001b[1;32m----> 4\u001b[1;33m \u001b[1;32mfrom\u001b[0m \u001b[0mclean_text\u001b[0m \u001b[1;32mimport\u001b[0m \u001b[0mclean_text\u001b[0m\u001b[1;33m\u001b[0m\u001b[0m\n\u001b[0m\u001b[0;32m      5\u001b[0m \u001b[1;33m\u001b[0m\u001b[0m\n\u001b[0;32m      6\u001b[0m \u001b[1;31m#export test 15\u001b[0m\u001b[1;33m\u001b[0m\u001b[1;33m\u001b[0m\u001b[0m\n",
      "\u001b[1;31mImportError\u001b[0m: No module named clean_text"
     ]
    }
   ],
   "source": [
    "os.chdir(SAVE_PATH)\n",
    "\n",
    "from sklearn.pipeline import Pipeline\n",
    "from cleaning_text import clean_text\n",
    "\n",
    "#export test 15\n",
    "model = Pipeline([ \n",
    "    ('vectorize', TfidfVectorizer(tokenizer=clean_text, ngram_range = (1,3), sublinear_tf=True, lowercase=False)), \n",
    "    ('select', SelectPercentile(f_classif, percentile=15)), \n",
    "    ('classify', SGDClassifier(loss='modified_huber', penalty='l2', n_iter=200, random_state=42, alpha=0.0001)), \n",
    "])\n",
    "\n",
    "#train the pipeline (note this calls fit_transform on all transformers and fit on the final estimator) \n",
    "model.fit(text_train, labels_train) \n",
    "\n",
    "#save the entire model \n",
    "with open('model.pkl', 'wb') as f:\n",
    "    pickle.dump(model, f)"
   ]
  },
  {
   "cell_type": "code",
   "execution_count": 26,
   "metadata": {
    "collapsed": false
   },
   "outputs": [
    {
     "name": "stdout",
     "output_type": "stream",
     "text": [
      "             precision    recall  f1-score   support\n",
      "\n",
      "          0       0.79      0.74      0.76       889\n",
      "          1       0.75      0.80      0.77       869\n",
      "\n",
      "avg / total       0.77      0.77      0.77      1758\n",
      "\n"
     ]
    }
   ],
   "source": [
    "prediction = model.predict(text_test)\n",
    "\n",
    "report = sklearn.metrics.classification_report(labels_test, prediction)\n",
    "print report"
   ]
  }
 ],
 "metadata": {
  "kernelspec": {
   "display_name": "Python 2",
   "language": "python",
   "name": "python2"
  },
  "language_info": {
   "codemirror_mode": {
    "name": "ipython",
    "version": 2
   },
   "file_extension": ".py",
   "mimetype": "text/x-python",
   "name": "python",
   "nbconvert_exporter": "python",
   "pygments_lexer": "ipython2",
   "version": "2.7.11"
  }
 },
 "nbformat": 4,
 "nbformat_minor": 0
}

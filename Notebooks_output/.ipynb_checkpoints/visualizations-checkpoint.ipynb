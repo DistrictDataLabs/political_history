{
 "cells": [
  {
   "cell_type": "markdown",
   "metadata": {},
   "source": [
    "TO DO: see how paragraphs cluster with party affiliation after TF-IDF\n",
    "http://stackoverflow.com/questions/28160335/plot-a-document-tfidf-2d-graph\n",
    "EDA:\n",
    "1) clustering by year, tf-idf\n",
    "3) most frequent words - histograms of tf-idf. difference between republican/democrat?\n",
    "\n",
    "Questions:\n",
    "are words used in debates more similar by year or by speaker? What clusters \"better\"?"
   ]
  },
  {
   "cell_type": "code",
   "execution_count": 21,
   "metadata": {
    "collapsed": true
   },
   "outputs": [],
   "source": [
    "import pickle\n",
    "import pandas as pd\n",
    "import numpy as np\n",
    "import nltk\n",
    "import re\n",
    "import os\n",
    "from sklearn.feature_extraction.text import TfidfVectorizer\n",
    "from sklearn.metrics.pairwise import cosine_similarity\n",
    "import matplotlib.pyplot as plt\n",
    "import matplotlib as mpl\n",
    "from scipy.cluster.hierarchy import ward, dendrogram\n",
    "import codecs\n",
    "from sklearn.cluster import KMeans\n",
    "from sklearn import feature_extraction\n",
    "import mpld3\n",
    "\n",
    "%matplotlib inline\n",
    "\n",
    "LOCAL_DATA_PATH = 'C:\\Users\\JoAnna\\political_history\\unsupervised_vis'\n",
    "SAVE_PATH = 'C:\\Users\\JoAnna\\political_history\\unsupervised_vis'"
   ]
  },
  {
   "cell_type": "code",
   "execution_count": 24,
   "metadata": {
    "collapsed": false
   },
   "outputs": [],
   "source": [
    "os.chdir(LOCAL_DATA_PATH)\n",
    "#import data\n",
    "labels = pickle.load(open('bow_labels.pkl', \"r\"))\n",
    "text = pickle.load(open('bow_processed_text.pkl', \"r\"))\n",
    "candidates = pickle.load(open('speaker.pkl', \"r\"))\n",
    "date = pickle.load(open('year.pkl', \"r\"))"
   ]
  },
  {
   "cell_type": "code",
   "execution_count": 3,
   "metadata": {
    "collapsed": false
   },
   "outputs": [],
   "source": [
    "#just get the year from date list (not y/m/d)\n",
    "#print date.head()\n",
    "years = pd.DatetimeIndex(date).year\n",
    "#print years[1]"
   ]
  },
  {
   "cell_type": "code",
   "execution_count": 4,
   "metadata": {
    "collapsed": true
   },
   "outputs": [],
   "source": [
    "#map candidates to common name\n",
    "speaker_to_candidate = {'trump': 'Trump',\n",
    "                    'clinton': 'Clinton',\n",
    "                    'pence': 'Pence',\n",
    "                    'kaine': 'Kaine',\n",
    "                    'republicanpresidentialnomineewmittromney': 'Romney',\n",
    "                    'govromney': 'Romney',\n",
    "                    'thepresident\\u2014': 'Bush',\n",
    "                    'govromney\\u2014': 'Romney',\n",
    "                    'govromney\\u2014\\u2014': 'Romney',\n",
    "                    'thepresident': 'Obama',\n",
    "                    'representativepaulryan': 'Ryan',\n",
    "                    'ryan': 'Ryan',\n",
    "                    'vicepresidentjosephbiden': 'Biden',\n",
    "                    'biden': 'Biden',\n",
    "                    'mccain': 'McCain',\n",
    "                    'obama': 'Obama',\n",
    "                    'palin': 'Palin',\n",
    "                    'presidentbush': 'Bush',\n",
    "                    'senatorjohnfkerry': 'Kerry',\n",
    "                    'senatorkerry': 'Kerry',\n",
    "                    'cheney': 'Cheney',\n",
    "                    'edwards': 'Edwards',\n",
    "                    'bush': 'Bush',\n",
    "                    'gore': 'Gore',\n",
    "                    'lieberman': 'Lieberman'}\n",
    "candidates.replace(speaker_to_candidate, inplace=True)"
   ]
  },
  {
   "cell_type": "code",
   "execution_count": 5,
   "metadata": {
    "collapsed": false
   },
   "outputs": [],
   "source": [
    "#make dataframe with all variables\n",
    "columns = {'text': text, 'candidate': candidates, 'label': labels, 'year': years}\n",
    "df = pd.DataFrame(columns)"
   ]
  },
  {
   "cell_type": "code",
   "execution_count": 6,
   "metadata": {
    "collapsed": false
   },
   "outputs": [],
   "source": [
    "#group dataframe by candidate\n",
    "candidate_grouped = df.groupby('candidate')['text'].apply(lambda x: ' '.join(x)).reset_index()\n",
    "candidate_label = candidate_grouped['candidate'].tolist()\n",
    "#print candidate_grouped.head(16)\n",
    "\n",
    "# and year/label\n",
    "year_grouped = df.groupby(['year', 'label'])['text'].apply(lambda x: ','.join(x)).reset_index()\n",
    "year_label = year_grouped['year'].tolist()\n",
    "year_color = year_grouped['label'].tolist()\n",
    "#print year_grouped.head()\n",
    "\n",
    "#and candidate/year\n",
    "candidate_year = df.groupby(['candidate', 'year'])['text'].apply(lambda x: ' '.join(x)).reset_index()\n",
    "candidate_year_label = candidate_year['candidate'].tolist()\n",
    "candidate_year_color = candidate_year['year'].tolist()\n",
    "#print candidate_year.head(16)"
   ]
  },
  {
   "cell_type": "markdown",
   "metadata": {},
   "source": [
    "#### Tf-idf vectorization"
   ]
  },
  {
   "cell_type": "code",
   "execution_count": 7,
   "metadata": {
    "collapsed": false
   },
   "outputs": [
    {
     "name": "stdout",
     "output_type": "stream",
     "text": [
      "(5860L, 210530L)\n"
     ]
    }
   ],
   "source": [
    "#tf-idf vectorization of text\n",
    "vectorizer = TfidfVectorizer(sublinear_tf=True, ngram_range = (1,3))\n",
    "\n",
    "text_transformed = vectorizer.fit_transform(text).toarray()\n",
    "#vocab list of all n-grams:\n",
    "terms = vectorizer.get_feature_names()\n",
    "\n",
    "print(text_transformed.shape)"
   ]
  },
  {
   "cell_type": "code",
   "execution_count": 8,
   "metadata": {
    "collapsed": false
   },
   "outputs": [
    {
     "name": "stdout",
     "output_type": "stream",
     "text": [
      "(10L, 224976L)\n"
     ]
    }
   ],
   "source": [
    "#tf-idf vectorization of candidates_grouped\n",
    "candidates_transformed = vectorizer.fit_transform(candidate_grouped['text']).toarray()\n",
    "\n",
    "#tf-idf vectorization of year_grouped\n",
    "year_transformed = vectorizer.fit_transform(year_grouped['text']).toarray()\n",
    "print(year_transformed.shape)\n",
    "\n",
    "#tf-idf vectorization of candidate_year\n",
    "candidate_year_transformed = vectorizer.fit_transform(candidate_year['text']).toarray()"
   ]
  },
  {
   "cell_type": "markdown",
   "metadata": {},
   "source": [
    "Now I want to investigate the top terms in the TF-IDF matrix for each paragraph and for the text as a whole."
   ]
  },
  {
   "cell_type": "code",
   "execution_count": null,
   "metadata": {
    "collapsed": false
   },
   "outputs": [],
   "source": [
    "#function to get to the top terms in a paragraph and return them with tf-idf score\n",
    "def top_tfidf_terms(row, terms, top_n=10):\n",
    "    topn_ids = np.argsort(row)[::-1][:top_n]\n",
    "    top_terms = [(terms[i], row[i]) for i in topn_ids]\n",
    "    df = pd.DataFrame(top_terms)\n",
    "    df.columns = ['term', 'tfidf']\n",
    "    return df\n",
    "\n",
    "#function to get the top features in a paragraph\n",
    "#converts tf-idf sparse matrix to dense\n",
    "def top_terms_in_doc(text_transformed, terms, row_id, top_n=10):\n",
    "    row = np.squeeze(text_transformed[row_id].tolist())\n",
    "    return top_tfidf_terms(row, terms, top_n)\n",
    "\n",
    "top_terms_in_doc(text_transformed, terms, 3, top_n=10)"
   ]
  },
  {
   "cell_type": "code",
   "execution_count": null,
   "metadata": {
    "collapsed": false
   },
   "outputs": [],
   "source": [
    "#now average tf-idf scores across the whole corpus and return the results\n",
    "def top_mean_terms(text_transformed, terms, grp_ids=None, min_tfidf=0.1, top_n=25):\n",
    "    if grp_ids:\n",
    "        D = text_transformed[grp_ids].tolist()\n",
    "    else:\n",
    "        D = text_transformed.tolist()\n",
    "\n",
    "    D[D < min_tfidf] = 0\n",
    "    tfidf_means = np.mean(D, axis=0)\n",
    "    return top_tfidf_terms(tfidf_means, terms, top_n)\n",
    "\n",
    "top_mean_terms(text_transformed, terms, min_tfidf=0.1, top_n=25)"
   ]
  },
  {
   "cell_type": "code",
   "execution_count": null,
   "metadata": {
    "collapsed": true
   },
   "outputs": [],
   "source": [
    "#now look at top terms by label\n",
    "def top_feats_by_class(text_transformed, labels, terms, min_tfidf=0.1, top_n=25):\n",
    "    ''' Return a list of dfs, where each df holds top_n features and their mean tfidf value\n",
    "        calculated across documents with the same class label. '''\n",
    "    dfs = []\n",
    "    text_label = np.unique(y)\n",
    "    for label in text_labels:\n",
    "        ids = np.where(y==label)\n",
    "        terms_df = top_mean_terms(text_transformed, labels, ids, min_tfidf=min_tfidf, top_n=top_n)\n",
    "        terms_df.label = label\n",
    "        dfs.append(terms_df)\n",
    "    return dfs"
   ]
  },
  {
   "cell_type": "markdown",
   "metadata": {},
   "source": [
    "#### Calculate the cosine distance between each paragraph or grouping"
   ]
  },
  {
   "cell_type": "code",
   "execution_count": 9,
   "metadata": {
    "collapsed": false
   },
   "outputs": [],
   "source": [
    "#calculate \"cosine distance\" between each paragraph, measured by 1-(cosine similarity)\n",
    "dist_all = 1 - cosine_similarity(text_transformed)\n",
    "dist_candidates = 1 - cosine_similarity(candidates_transformed)\n",
    "dist_year = 1 - cosine_similarity(year_transformed)\n",
    "dist_candidate_year = 1 - cosine_similarity(candidate_year_transformed)"
   ]
  },
  {
   "cell_type": "markdown",
   "metadata": {},
   "source": [
    "#### Hierarchical clustering of text\n",
    "http://scikit-learn.org/stable/modules/clustering.html#hierarchical-clustering"
   ]
  },
  {
   "cell_type": "code",
   "execution_count": 13,
   "metadata": {
    "collapsed": false
   },
   "outputs": [
    {
     "data": {
      "image/png": "[encoded data removed]",
      "text/plain": [
       "<matplotlib.figure.Figure at 0x12a762e8>"
      ]
     },
     "metadata": {},
     "output_type": "display_data"
    }
   ],
   "source": [
    "#dendrogram of cluster by candidate\n",
    "linkage_matrix = ward(dist_candidates) #define the linkage_matrix using ward clustering pre-computed distances\n",
    "\n",
    "fig, ax = plt.subplots(figsize=(7, 10)) # set size\n",
    "ax = dendrogram(linkage_matrix, orientation=\"left\", labels=candidate_label);\n",
    "\n",
    "plt.tick_params(\\\n",
    "    axis= 'x',          # changes apply to the x-axis\n",
    "    which='both',      # both major and minor ticks are affected\n",
    "    bottom='off',      # ticks along the bottom edge are off\n",
    "    top='off',         # ticks along the top edge are off\n",
    "    labelbottom='off')\n",
    "\n",
    "plt.tight_layout() #show plot with tight layout\n",
    "\n",
    "plt.savefig('ward_clusters_candidate.png', dpi=200) #save figure as ward_clusters"
   ]
  },
  {
   "cell_type": "code",
   "execution_count": 14,
   "metadata": {
    "collapsed": false
   },
   "outputs": [
    {
     "data": {
      "image/png": "[encoded data removed]",
      "text/plain": [
       "<matplotlib.figure.Figure at 0x11d7a1d0>"
      ]
     },
     "metadata": {},
     "output_type": "display_data"
    }
   ],
   "source": [
    "#dendrogram of cluster by year\n",
    "linkage_matrix = ward(dist_year) #define the linkage_matrix using ward clustering pre-computed distances\n",
    "\n",
    "fig, ax = plt.subplots(figsize=(7, 10)) # set size\n",
    "ax = dendrogram(linkage_matrix, orientation=\"left\", labels=year_label);\n",
    "\n",
    "plt.tick_params(\\\n",
    "    axis= 'x',          # changes apply to the x-axis\n",
    "    which='both',      # both major and minor ticks are affected\n",
    "    bottom='off',      # ticks along the bottom edge are off\n",
    "    top='off',         # ticks along the top edge are off\n",
    "    labelbottom='off')\n",
    "\n",
    "plt.tight_layout() #show plot with tight layout\n",
    "\n",
    "plt.savefig('ward_clusters_year.png', dpi=200) #save figure as ward_clusters"
   ]
  },
  {
   "cell_type": "code",
   "execution_count": 15,
   "metadata": {
    "collapsed": false
   },
   "outputs": [
    {
     "data": {
      "image/png": "[encoded data removed]",
      "text/plain": [
       "<matplotlib.figure.Figure at 0x12bbf470>"
      ]
     },
     "metadata": {},
     "output_type": "display_data"
    }
   ],
   "source": [
    "#dendrogram of cluster by candidate and year\n",
    "#?: is election discourse goverened by issues or personality?\n",
    "linkage_matrix = ward(dist_candidate_year) #define the linkage_matrix using ward clustering pre-computed distances\n",
    "\n",
    "fig, ax = plt.subplots(figsize=(7, 10)) # set size\n",
    "ax = dendrogram(linkage_matrix, orientation=\"left\", labels=candidate_year_label);\n",
    "\n",
    "plt.tick_params(\\\n",
    "    axis= 'x',          # changes apply to the x-axis\n",
    "    which='both',      # both major and minor ticks are affected\n",
    "    bottom='off',      # ticks along the bottom edge are off\n",
    "    top='off',         # ticks along the top edge are off\n",
    "    labelbottom='off')\n",
    "\n",
    "plt.tight_layout() #show plot with tight layout\n",
    "\n",
    "plt.savefig('ward_clusters_cand_year.png', dpi=200) #save figure as ward_clusters"
   ]
  },
  {
   "cell_type": "markdown",
   "metadata": {},
   "source": [
    "#### K-means clustering of text\n",
    "http://scikit-learn.org/stable/auto_examples/text/document_clustering.html"
   ]
  },
  {
   "cell_type": "code",
   "execution_count": 18,
   "metadata": {
    "collapsed": false
   },
   "outputs": [],
   "source": [
    "#run kmeans with all text, 5 clusters\n",
    "num_clusters = 5\n",
    "km = KMeans(n_clusters=num_clusters)\n",
    "km.fit(text_transformed)\n",
    "clusters = km.labels_.tolist()"
   ]
  },
  {
   "cell_type": "code",
   "execution_count": 26,
   "metadata": {
    "collapsed": false
   },
   "outputs": [],
   "source": [
    "#dump kmeans model\n",
    "os.chdir(SAVE_PATH)\n",
    "with open('kmeans.pkl', 'wb') as f:\n",
    "    pickle.dump(km, f)"
   ]
  },
  {
   "cell_type": "code",
   "execution_count": 36,
   "metadata": {
    "collapsed": false
   },
   "outputs": [],
   "source": [
    "#create dataframe with clusters\n",
    "columns_cluster = {'text': text, 'candidate': candidates, 'label': labels, 'year': years, 'cluster': clusters}\n",
    "cluster_df = pd.DataFrame(columns_cluster)"
   ]
  },
  {
   "cell_type": "code",
   "execution_count": null,
   "metadata": {
    "collapsed": true
   },
   "outputs": [],
   "source": []
  }
 ],
 "metadata": {
  "kernelspec": {
   "display_name": "Python 2",
   "language": "python",
   "name": "python2"
  },
  "language_info": {
   "codemirror_mode": {
    "name": "ipython",
    "version": 2
   },
   "file_extension": ".py",
   "mimetype": "text/x-python",
   "name": "python",
   "nbconvert_exporter": "python",
   "pygments_lexer": "ipython2",
   "version": "2.7.11"
  }
 },
 "nbformat": 4,
 "nbformat_minor": 0
}

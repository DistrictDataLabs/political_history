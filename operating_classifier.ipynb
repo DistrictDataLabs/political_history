{
 "cells": [
  {
   "cell_type": "code",
   "execution_count": null,
   "metadata": {
    "collapsed": true
   },
   "outputs": [],
   "source": [
    "To Do:\n",
    "    Receive input data (raw_input)\n",
    "    Stem, remove stopwords, tokenize input\n",
    "    tf-idf.transform on input using fit_transform from training\n",
    "    fit classifier on input\n",
    "    output accuracy, auc, prediction."
   ]
  }
 ],
 "metadata": {
  "kernelspec": {
   "display_name": "Python 2",
   "language": "python",
   "name": "python2"
  },
  "language_info": {
   "codemirror_mode": {
    "name": "ipython",
    "version": 2
   },
   "file_extension": ".py",
   "mimetype": "text/x-python",
   "name": "python",
   "nbconvert_exporter": "python",
   "pygments_lexer": "ipython2",
   "version": "2.7.11"
  }
 },
 "nbformat": 4,
 "nbformat_minor": 0
}

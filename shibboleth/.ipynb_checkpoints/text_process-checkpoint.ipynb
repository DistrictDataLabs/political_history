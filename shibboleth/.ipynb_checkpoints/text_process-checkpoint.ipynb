{
 "cells": [
  {
   "cell_type": "code",
   "execution_count": 21,
   "metadata": {
    "collapsed": true
   },
   "outputs": [],
   "source": [
    "#takes an inport text, removes non-characters, stems.\n",
    "from nltk.stem.snowball import SnowballStemmer\n",
    "from nltk.tokenize import RegexpTokenizer\n",
    "import re\n",
    "import os\n",
    "import pickle\n",
    "import numpy as np"
   ]
  },
  {
   "cell_type": "code",
   "execution_count": 27,
   "metadata": {
    "collapsed": false
   },
   "outputs": [],
   "source": [
    "os.chdir('C:\\Users\\JoAnna\\political_history\\shibboleth\\pkl_objects')\n",
    "\n",
    "#open pickled model\n",
    "with open('model.pkl', 'rb') as f:\n",
    "    model = pickle.load(f)\n",
    "\n",
    "#define labels - Democrat or Republican\n",
    "affiliation = {0:'Democrat', 1:'Republican'}\n",
    "\n",
    "#text cleaning function\n",
    "def clean_text(text):\n",
    "    \"\"\"\n",
    "    Removes punctuation, converts all characters to lowercase, stems\n",
    "    \n",
    "    Args:\n",
    "        a single string of text \n",
    "        \n",
    "    Returns:\n",
    "        processed text string\n",
    "        \n",
    "    \"\"\"\n",
    "    tokens = RegexpTokenizer(r'\\w+')\n",
    "    stemmer = SnowballStemmer('english')\n",
    "    \n",
    "    token = tokens.tokenize(text)\n",
    "    filtered_words = [word for word in token]\n",
    "    stems = [stemmer.stem(t) for t in filtered_words]\n",
    "    stemmed_text = \" \".join(stems)\n",
    "    stemmed_text_list = stemmed_text.split()\n",
    "    return stemmed_text_list\n",
    "\n",
    "def make_prediction(input_text):\n",
    "    \"\"\"\n",
    "    cleans input text, uses classifier to make prediction on whether speech is more Democrat or Republican\n",
    "    \n",
    "    Args:\n",
    "        text input \n",
    "        \n",
    "    Returns:\n",
    "        Prediction and Probability\n",
    "        \n",
    "    \"\"\"\n",
    "    cleaned_text = clean_text(input_text)\n",
    "    #call model on input text\n",
    "    model.predict(cleaned_text)\n",
    "    print('Prediction: %s\\nProbability: %.2f%%' %\\\n",
    "       (affiliation[model.predict(cleaned_text)[0]], \n",
    "        np.max(model.predict_proba(cleaned_text))*100))"
   ]
  },
  {
   "cell_type": "code",
   "execution_count": 28,
   "metadata": {
    "collapsed": false
   },
   "outputs": [
    {
     "name": "stdout",
     "output_type": "stream",
     "text": [
      "Prediction: Republican\n",
      "Probability: 100.00%\n"
     ]
    }
   ],
   "source": [
    "make_prediction(\"I'm going to make America great again!\")"
   ]
  },
  {
   "cell_type": "code",
   "execution_count": null,
   "metadata": {
    "collapsed": true
   },
   "outputs": [],
   "source": []
  }
 ],
 "metadata": {
  "kernelspec": {
   "display_name": "Python 2",
   "language": "python",
   "name": "python2"
  },
  "language_info": {
   "codemirror_mode": {
    "name": "ipython",
    "version": 2
   },
   "file_extension": ".py",
   "mimetype": "text/x-python",
   "name": "python",
   "nbconvert_exporter": "python",
   "pygments_lexer": "ipython2",
   "version": "2.7.11"
  }
 },
 "nbformat": 4,
 "nbformat_minor": 0
}

{
 "cells": [
  {
   "cell_type": "markdown",
   "metadata": {},
   "source": [
    "### Pull debate data from The American Presidency Project\n",
    "http://www.presidency.ucsb.edu/index.php"
   ]
  },
  {
   "cell_type": "code",
   "execution_count": 2,
   "metadata": {
    "collapsed": false
   },
   "outputs": [],
   "source": [
    "from bs4 import BeautifulSoup\n",
    "from bs4 import NavigableString\n",
    "import urllib\n",
    "import pandas\n",
    "import re\n",
    "import os\n",
    "LOCAL_DATA_PATH = 'C:\\Users\\JoAnna\\political_history\\data' #path to your local repository"
   ]
  },
  {
   "cell_type": "code",
   "execution_count": 2,
   "metadata": {
    "collapsed": true
   },
   "outputs": [],
   "source": [
    "#get data from website (websites with b tags)\n",
    "url_list_b = ['http://www.presidency.ucsb.edu/ws/index.php?pid=118971',\n",
    "              'http://www.presidency.ucsb.edu/ws/index.php?pid=119038',\n",
    "              'http://www.presidency.ucsb.edu/ws/index.php?pid=119012',\n",
    "              'http://www.presidency.ucsb.edu/ws/index.php?pid=102322',\n",
    "              'http://www.presidency.ucsb.edu/ws/index.php?pid=84526',\n",
    "              'http://www.presidency.ucsb.edu/ws/index.php?pid=84482',\n",
    "              'http://www.presidency.ucsb.edu/ws/index.php?pid=78691',\n",
    "              'http://www.presidency.ucsb.edu/ws/index.php?pid=84382',\n",
    "              'http://www.presidency.ucsb.edu/ws/index.php?pid=119039']         "
   ]
  },
  {
   "cell_type": "code",
   "execution_count": 3,
   "metadata": {
    "collapsed": false
   },
   "outputs": [],
   "source": [
    "#define parsing function\n",
    "def parse_website_b(url):\n",
    "     \"\"\"\n",
    "    Grabs data from website (url) and parses it.\n",
    "        Data format: in class_='displaytext', debate speaker is seperated by text with <b/> tag.\n",
    "    \n",
    "    Args:\n",
    "        url: \n",
    "        \n",
    "    Returns:\n",
    "        json files saved to directory with debate info parsed by paragraph:\n",
    "        title, date, speaker, text\n",
    "        \n",
    "    \"\"\"\n",
    "    fetched = urllib.urlopen(url).read()\n",
    "    soup = BeautifulSoup(fetched, \"lxml\")\n",
    "\n",
    "    #parsing the data\n",
    "    titles = unicode(soup.title.string)\n",
    "    dates = unicode(soup.find(\"span\", class_=\"docdate\").string)\n",
    "    body = soup.find(\"span\", class_=\"displaytext\")\n",
    "    paragraphs = soup.find(\"span\", class_=\"displaytext\").findChildren(\"p\")\n",
    "\n",
    "    #make dataframe\n",
    "    text_list = []\n",
    "    speaker_list = []\n",
    "    child_list = []\n",
    "\n",
    "    #pull text and speaker from html\n",
    "    for paragraph in paragraphs:\n",
    "        text = unicode(paragraph.find(text=True, recursive=False))\n",
    "        text_list.append(text)\n",
    "        children = paragraph.findChildren('b')\n",
    "        for child in children:\n",
    "            child_list.append(child)\n",
    "        if child_list == []:\n",
    "            prevchild = body.find_previous_sibling('b')\n",
    "            speaker_list.append(prevchild)\n",
    "        else:\n",
    "            speakers = unicode(paragraph.b.get_text())\n",
    "            speaker_list.append(speakers)\n",
    "        child_list[:] = []\n",
    "\n",
    "    #replace 'None' in speaker list\n",
    "    start = next(element for element in speaker_list if element is not None)\n",
    "    for i, element in enumerate(speaker_list):\n",
    "        if element is None:\n",
    "            speaker_list[i] = start\n",
    "        else:\n",
    "            start = element\n",
    "\n",
    "    # pandas dataframe\n",
    "    columns = {'text': text_list, 'speaker': speaker_list, 'title': titles, 'date': dates}\n",
    "    debates = pandas.DataFrame(columns)\n",
    "\n",
    "    #export to json\n",
    "    directory_name = 'C:\\Users\\JoAnna\\political_history\\data'\n",
    "    base_filename = str(re.findall(r'\\d+', url))\n",
    "    suffix = '.json'\n",
    "    save_path = os.path.join(directory_name, base_filename + suffix)\n",
    "\n",
    "    debates.to_json(save_path, orient='index')"
   ]
  },
  {
   "cell_type": "code",
   "execution_count": 4,
   "metadata": {
    "collapsed": false
   },
   "outputs": [
    {
     "data": {
      "text/plain": [
       "[None, None, None, None, None, None, None, None, None]"
      ]
     },
     "execution_count": 4,
     "metadata": {},
     "output_type": "execute_result"
    }
   ],
   "source": [
    "#write json objects\n",
    "map(parse_website_b, url_list_b)"
   ]
  },
  {
   "cell_type": "code",
   "execution_count": 5,
   "metadata": {
    "collapsed": true
   },
   "outputs": [],
   "source": [
    "#list of websites with <i/> tags\n",
    "url_list_i = ['http://www.presidency.ucsb.edu/ws/index.php?pid=102344',\n",
    "              'http://www.presidency.ucsb.edu/ws/index.php?pid=102343',\n",
    "              'http://www.presidency.ucsb.edu/ws/index.php?pid=102317',\n",
    "              'http://www.presidency.ucsb.edu/ws/index.php?pid=63163',\n",
    "              'http://www.presidency.ucsb.edu/ws/index.php?pid=72776',\n",
    "              'http://www.presidency.ucsb.edu/ws/index.php?pid=72770']             "
   ]
  },
  {
   "cell_type": "code",
   "execution_count": 6,
   "metadata": {
    "collapsed": true
   },
   "outputs": [],
   "source": [
    "#define parsing function\n",
    "def parse_website_i(url):\n",
    "    \"\"\"\n",
    "    Grabs data from website (url) and parses it.\n",
    "        Data format: in class_='displaytext', debate speaker is seperated by text with <i/> tag.\n",
    "    \n",
    "    Args:\n",
    "        url: \n",
    "        \n",
    "    Returns:\n",
    "        json files saved to directory with debate info parsed by paragraph:\n",
    "        title, date, speaker, text\n",
    "        \n",
    "    \"\"\"\n",
    "    fetched = urllib.urlopen(url).read()\n",
    "    soup = BeautifulSoup(fetched, \"lxml\")\n",
    "\n",
    "    #parsing the data\n",
    "    titles = unicode(soup.title.string)\n",
    "    dates = unicode(soup.find(\"span\", class_=\"docdate\").string)\n",
    "    body = soup.find(\"span\", class_=\"displaytext\")\n",
    "    paragraphs = soup.find(\"span\", class_=\"displaytext\").findChildren(\"p\")\n",
    "\n",
    "    #make dataframe\n",
    "    text_list = []\n",
    "    speaker_list = []\n",
    "    child_list = []\n",
    "\n",
    "    #pull text and speaker from html\n",
    "    for paragraph in paragraphs:\n",
    "        text = unicode(paragraph.find(text=True, recursive=False))\n",
    "        text_list.append(text)\n",
    "        children = paragraph.findChildren('i')\n",
    "        for child in children:\n",
    "            child_list.append(child)\n",
    "        if child_list == []:\n",
    "            prevchild = body.find_previous_sibling('i')\n",
    "            speaker_list.append(prevchild)\n",
    "        else:\n",
    "            speakers = unicode(paragraph.i.get_text())\n",
    "            speaker_list.append(speakers)\n",
    "        child_list[:] = []\n",
    "\n",
    "    #replace 'None' in speaker list\n",
    "    start = next(element for element in speaker_list if element is not None)\n",
    "    for i, element in enumerate(speaker_list):\n",
    "        if element is None:\n",
    "            speaker_list[i] = start\n",
    "        else:\n",
    "            start = element\n",
    "\n",
    "    # pandas dataframe\n",
    "    columns = {'text': text_list, 'speaker': speaker_list, 'title': titles, 'date': dates}\n",
    "    debates = pandas.DataFrame(columns)\n",
    "\n",
    "    #export to json\n",
    "    directory_name = 'C:\\Users\\JoAnna\\political_history\\data'\n",
    "    base_filename = str(re.findall(r'\\d+', url))\n",
    "    suffix = '.json'\n",
    "    save_path = os.path.join(directory_name, base_filename + suffix)\n",
    "    debates.to_json(save_path, orient='index')"
   ]
  },
  {
   "cell_type": "code",
   "execution_count": 7,
   "metadata": {
    "collapsed": false
   },
   "outputs": [
    {
     "data": {
      "text/plain": [
       "[None, None, None, None, None, None]"
      ]
     },
     "execution_count": 7,
     "metadata": {},
     "output_type": "execute_result"
    }
   ],
   "source": [
    "#write json objects\n",
    "map(parse_website_i, url_list_i)"
   ]
  },
  {
   "cell_type": "code",
   "execution_count": 5,
   "metadata": {
    "collapsed": true
   },
   "outputs": [],
   "source": [
    "#url list with no separation of speaker tags\n",
    "url_list_none = ['http://www.presidency.ucsb.edu/ws/index.php?pid=29428',\n",
    "                 'http://www.presidency.ucsb.edu/ws/index.php?pid=29420',\n",
    "                 'http://www.presidency.ucsb.edu/ws/index.php?pid=29419',\n",
    "                 'http://www.presidency.ucsb.edu/ws/index.php?pid=29418',\n",
    "                 'http://www.presidency.ucsb.edu/ws/index.php?pid=29421']"
   ]
  },
  {
   "cell_type": "code",
   "execution_count": 16,
   "metadata": {
    "collapsed": true
   },
   "outputs": [],
   "source": [
    "#define parsing function\n",
    "def parse_website_none(url):\n",
    "    \"\"\"\n",
    "    Grabs data from website (url) and parses it.\n",
    "        Data format: in class_='displaytext', debate speaker is not seperated from text.\n",
    "            uses re to grab speaker info from text\n",
    "    \n",
    "    Args:\n",
    "        url: \n",
    "        \n",
    "    Returns:\n",
    "        json files saved to directory with debate info parsed by paragraph:\n",
    "        title, date, speaker, text\n",
    "        \n",
    "    \"\"\"\n",
    "    fetched = urllib.urlopen(url).read()\n",
    "    soup = BeautifulSoup(fetched, \"lxml\")\n",
    "\n",
    "    #parsing the data\n",
    "    titles = unicode(soup.title.string)\n",
    "    dates = unicode(soup.find(\"span\", class_=\"docdate\").string)\n",
    "    body = soup.find(\"span\", class_=\"displaytext\")\n",
    "    paragraphs = soup.find(\"span\", class_=\"displaytext\").findChildren(\"p\")\n",
    "\n",
    "    #make dataframe\n",
    "    text_list = []\n",
    "    speaker_list = []\n",
    "    child_list = []\n",
    "\n",
    "    #pull text and speaker from html\n",
    "    for paragraph in paragraphs:\n",
    "        text = unicode(paragraph.find(text=True, recursive=False))\n",
    "        text_list.append(text)\n",
    "        \n",
    "    regex = re.compile('[A-Z ]+:.?')                   \n",
    "    for element in text_list:\n",
    "        speaker = re.findall(regex, element)\n",
    "        if speaker == []:\n",
    "            speaker_list.append(None)\n",
    "        else:\n",
    "            speaker_list.append(speaker)\n",
    "        \n",
    "    #replace 'None' in speaker list\n",
    "    start = next(element for element in speaker_list if element is not None)\n",
    "    for i, element in enumerate(speaker_list):\n",
    "        if element is None:\n",
    "            speaker_list[i] = start\n",
    "        else:\n",
    "            start = element\n",
    "\n",
    "    # pandas dataframe\n",
    "    columns = {'text': text_list, 'speaker': speaker_list, 'title': titles, 'date': dates}\n",
    "    debates = pandas.DataFrame(columns)\n",
    "    debates['speaker'] = debates['speaker'].str.get(0)\n",
    "\n",
    "    #export to json\n",
    "    directory_name = LOCAL_DATA_PATH\n",
    "    base_filename = str(re.findall(r'\\d+', url))\n",
    "    suffix = '.json'\n",
    "    save_path = os.path.join(directory_name, base_filename + suffix)\n",
    "    debates.to_json(save_path, orient='index')"
   ]
  },
  {
   "cell_type": "code",
   "execution_count": 17,
   "metadata": {
    "collapsed": false
   },
   "outputs": [
    {
     "data": {
      "text/plain": [
       "[None, None, None, None, None]"
      ]
     },
     "execution_count": 17,
     "metadata": {},
     "output_type": "execute_result"
    }
   ],
   "source": [
    "#write json objects\n",
    "map(parse_website_none, url_list_none)"
   ]
  },
  {
   "cell_type": "code",
   "execution_count": null,
   "metadata": {
    "collapsed": true
   },
   "outputs": [],
   "source": []
  }
 ],
 "metadata": {
  "kernelspec": {
   "display_name": "Python 2",
   "language": "python",
   "name": "python2"
  },
  "language_info": {
   "codemirror_mode": {
    "name": "ipython",
    "version": 2
   },
   "file_extension": ".py",
   "mimetype": "text/x-python",
   "name": "python",
   "nbconvert_exporter": "python",
   "pygments_lexer": "ipython2",
   "version": "2.7.11"
  }
 },
 "nbformat": 4,
 "nbformat_minor": 0
}

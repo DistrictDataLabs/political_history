{
 "cells": [
  {
   "cell_type": "markdown",
   "metadata": {},
   "source": [
    "### Pull debate data from The American Presidency Project\n",
    "http://www.presidency.ucsb.edu/index.php"
   ]
  },
  {
   "cell_type": "markdown",
   "metadata": {},
   "source": [
    "####To Dos:\n",
    "troubleshoot function for websites with no <b/> or <i/> tags\n",
    "make code prettier"
   ]
  },
  {
   "cell_type": "code",
   "execution_count": 12,
   "metadata": {
    "collapsed": false
   },
   "outputs": [],
   "source": [
    "from bs4 import BeautifulSoup\n",
    "from bs4 import NavigableString\n",
    "import urllib\n",
    "import pandas\n",
    "import re\n",
    "import os\n",
    "LOCAL_DATA_PATH = '/Users/willsankey/political_history/data'"
   ]
  },
  {
   "cell_type": "code",
   "execution_count": 6,
   "metadata": {
    "collapsed": true
   },
   "outputs": [],
   "source": [
    "#get data from website (websites with b tags)\n",
    "url_list_b = ['http://www.presidency.ucsb.edu/ws/index.php?pid=118971',\n",
    "              'http://www.presidency.ucsb.edu/ws/index.php?pid=119038',\n",
    "              'http://www.presidency.ucsb.edu/ws/index.php?pid=119012',\n",
    "              'http://www.presidency.ucsb.edu/ws/index.php?pid=102322',\n",
    "              'http://www.presidency.ucsb.edu/ws/index.php?pid=84526',\n",
    "              'http://www.presidency.ucsb.edu/ws/index.php?pid=84482',\n",
    "              'http://www.presidency.ucsb.edu/ws/index.php?pid=78691',\n",
    "              'http://www.presidency.ucsb.edu/ws/index.php?pid=84382']            "
   ]
  },
  {
   "cell_type": "code",
   "execution_count": 7,
   "metadata": {
    "collapsed": false
   },
   "outputs": [],
   "source": [
    "#define parsing function\n",
    "def parse_website_b(url):\n",
    "    \"\"\"\n",
    "    Grabs data from website (url) and parses it\n",
    "    \n",
    "    Args:\n",
    "        url: \n",
    "        \n",
    "    Returns:\n",
    "       \n",
    "    \"\"\"\n",
    "    fetched = urllib.urlopen(url).read()\n",
    "    soup = BeautifulSoup(fetched, \"lxml\")\n",
    "\n",
    "    #parsing the data\n",
    "    titles = unicode(soup.title.string)\n",
    "    dates = unicode(soup.find(\"span\", class_=\"docdate\").string)\n",
    "    body = soup.find(\"span\", class_=\"displaytext\")\n",
    "    paragraphs = soup.find(\"span\", class_=\"displaytext\").findChildren(\"p\")\n",
    "\n",
    "    #make dataframe\n",
    "    text_list = []\n",
    "    speaker_list = []\n",
    "    child_list = []\n",
    "\n",
    "    #pull text and speaker from html\n",
    "    for paragraph in paragraphs:\n",
    "        text = unicode(paragraph.find(text=True, recursive=False))\n",
    "        text_list.append(text)\n",
    "        children = paragraph.findChildren('b')\n",
    "        for child in children:\n",
    "            child_list.append(child)\n",
    "        if child_list == []:\n",
    "            prevchild = body.find_previous_sibling('b')\n",
    "            speaker_list.append(prevchild)\n",
    "        else:\n",
    "            speakers = unicode(paragraph.b.get_text())\n",
    "            speaker_list.append(speakers)\n",
    "        child_list[:] = []\n",
    "\n",
    "    #replace 'None' in speaker list\n",
    "    start = next(element for element in speaker_list if element is not None)\n",
    "    for i, element in enumerate(speaker_list):\n",
    "        if element is None:\n",
    "            speaker_list[i] = start\n",
    "        else:\n",
    "            start = element\n",
    "\n",
    "    # pandas dataframe\n",
    "    columns = {'text': text_list, 'speaker': speaker_list, 'title': titles, 'date': dates}\n",
    "    debates = pandas.DataFrame(columns)\n",
    "\n",
    "    #export to json\n",
    "    directory_name = LOCAL_DATA_PATH\n",
    "    base_filename = str(re.findall(r'\\d+', url))\n",
    "    suffix = '.json'\n",
    "    save_path = os.path.join(directory_name, base_filename + suffix)\n",
    "\n",
    "    debates.to_json(save_path, orient='index')"
   ]
  },
  {
   "cell_type": "code",
   "execution_count": 8,
   "metadata": {
    "collapsed": false
   },
   "outputs": [
    {
     "data": {
      "text/plain": [
       "[None, None, None, None, None, None, None, None]"
      ]
     },
     "execution_count": 8,
     "metadata": {},
     "output_type": "execute_result"
    }
   ],
   "source": [
    "#write json objects\n",
    "map(parse_website_b, url_list_b)"
   ]
  },
  {
   "cell_type": "code",
   "execution_count": 9,
   "metadata": {
    "collapsed": true
   },
   "outputs": [],
   "source": [
    "#list of websites with <i/> tags\n",
    "url_list_i = ['http://www.presidency.ucsb.edu/ws/index.php?pid=102344',\n",
    "              'http://www.presidency.ucsb.edu/ws/index.php?pid=102343',\n",
    "              'http://www.presidency.ucsb.edu/ws/index.php?pid=102317',\n",
    "              'http://www.presidency.ucsb.edu/ws/index.php?pid=63163',\n",
    "              'http://www.presidency.ucsb.edu/ws/index.php?pid=72776',\n",
    "              'http://www.presidency.ucsb.edu/ws/index.php?pid=72770']             "
   ]
  },
  {
   "cell_type": "code",
   "execution_count": 10,
   "metadata": {
    "collapsed": true
   },
   "outputs": [],
   "source": [
    "#define parsing function\n",
    "def parse_website_i(url):\n",
    "    \"\"\"\n",
    "    Grabs and parses data differently(?)\n",
    "    \n",
    "    Args:\n",
    "        \n",
    "        \n",
    "    Returns:\n",
    "        \n",
    "    \"\"\"\n",
    "    fetched = urllib.urlopen(url).read()\n",
    "    soup = BeautifulSoup(fetched, \"lxml\")\n",
    "\n",
    "    #parsing the data\n",
    "    titles = unicode(soup.title.string)\n",
    "    dates = unicode(soup.find(\"span\", class_=\"docdate\").string)\n",
    "    body = soup.find(\"span\", class_=\"displaytext\")\n",
    "    paragraphs = soup.find(\"span\", class_=\"displaytext\").findChildren(\"p\")\n",
    "\n",
    "    #make dataframe\n",
    "    text_list = []\n",
    "    speaker_list = []\n",
    "    child_list = []\n",
    "\n",
    "    #pull text and speaker from html\n",
    "    for paragraph in paragraphs:\n",
    "        text = unicode(paragraph.find(text=True, recursive=False))\n",
    "        text_list.append(text)\n",
    "        children = paragraph.findChildren('i')\n",
    "        for child in children:\n",
    "            child_list.append(child)\n",
    "        if child_list == []:\n",
    "            prevchild = body.find_previous_sibling('i')\n",
    "            speaker_list.append(prevchild)\n",
    "        else:\n",
    "            speakers = unicode(paragraph.i.get_text())\n",
    "            speaker_list.append(speakers)\n",
    "        child_list[:] = []\n",
    "\n",
    "    #replace 'None' in speaker list\n",
    "    start = next(element for element in speaker_list if element is not None)\n",
    "    for i, element in enumerate(speaker_list):\n",
    "        if element is None:\n",
    "            speaker_list[i] = start\n",
    "        else:\n",
    "            start = element\n",
    "\n",
    "    # pandas dataframe\n",
    "    columns = {'text': text_list, 'speaker': speaker_list, 'title': titles, 'date': dates}\n",
    "    debates = pandas.DataFrame(columns)\n",
    "\n",
    "    #export to json\n",
    "    directory_name = LOCAL_DATA_PATH\n",
    "    base_filename = str(re.findall(r'\\d+', url))\n",
    "    suffix = '.json'\n",
    "    save_path = os.path.join(directory_name, base_filename + suffix)\n",
    "    debates.to_json(save_path, orient='index')"
   ]
  },
  {
   "cell_type": "code",
   "execution_count": 11,
   "metadata": {
    "collapsed": false
   },
   "outputs": [
    {
     "ename": "IOError",
     "evalue": "[Errno 2] No such file or directory: \"C:\\\\Users\\\\JoAnna\\\\political_history\\\\data/['102344'].json\"",
     "output_type": "error",
     "traceback": [
      "\u001b[0;31m---------------------------------------------------------------------------\u001b[0m",
      "\u001b[0;31mIOError\u001b[0m                                   Traceback (most recent call last)",
      "\u001b[0;32m<ipython-input-11-8bac0c7b8b8f>\u001b[0m in \u001b[0;36m<module>\u001b[0;34m()\u001b[0m\n\u001b[1;32m      1\u001b[0m \u001b[0;31m#write json objects\u001b[0m\u001b[0;34m\u001b[0m\u001b[0;34m\u001b[0m\u001b[0m\n\u001b[0;32m----> 2\u001b[0;31m \u001b[0mmap\u001b[0m\u001b[0;34m(\u001b[0m\u001b[0mparse_website_i\u001b[0m\u001b[0;34m,\u001b[0m \u001b[0murl_list_i\u001b[0m\u001b[0;34m)\u001b[0m\u001b[0;34m\u001b[0m\u001b[0m\n\u001b[0m",
      "\u001b[0;32m<ipython-input-10-4b42760a00dc>\u001b[0m in \u001b[0;36mparse_website_i\u001b[0;34m(url)\u001b[0m\n\u001b[1;32m     48\u001b[0m     \u001b[0msuffix\u001b[0m \u001b[0;34m=\u001b[0m \u001b[0;34m'.json'\u001b[0m\u001b[0;34m\u001b[0m\u001b[0m\n\u001b[1;32m     49\u001b[0m     \u001b[0msave_path\u001b[0m \u001b[0;34m=\u001b[0m \u001b[0mos\u001b[0m\u001b[0;34m.\u001b[0m\u001b[0mpath\u001b[0m\u001b[0;34m.\u001b[0m\u001b[0mjoin\u001b[0m\u001b[0;34m(\u001b[0m\u001b[0mdirectory_name\u001b[0m\u001b[0;34m,\u001b[0m \u001b[0mbase_filename\u001b[0m \u001b[0;34m+\u001b[0m \u001b[0msuffix\u001b[0m\u001b[0;34m)\u001b[0m\u001b[0;34m\u001b[0m\u001b[0m\n\u001b[0;32m---> 50\u001b[0;31m     \u001b[0mdebates\u001b[0m\u001b[0;34m.\u001b[0m\u001b[0mto_json\u001b[0m\u001b[0;34m(\u001b[0m\u001b[0msave_path\u001b[0m\u001b[0;34m,\u001b[0m \u001b[0morient\u001b[0m\u001b[0;34m=\u001b[0m\u001b[0;34m'index'\u001b[0m\u001b[0;34m)\u001b[0m\u001b[0;34m\u001b[0m\u001b[0m\n\u001b[0m",
      "\u001b[0;32m/Library/Python/2.7/site-packages/pandas/core/generic.pyc\u001b[0m in \u001b[0;36mto_json\u001b[0;34m(self, path_or_buf, orient, date_format, double_precision, force_ascii, date_unit, default_handler)\u001b[0m\n\u001b[1;32m    892\u001b[0m             \u001b[0mforce_ascii\u001b[0m\u001b[0;34m=\u001b[0m\u001b[0mforce_ascii\u001b[0m\u001b[0;34m,\u001b[0m\u001b[0;34m\u001b[0m\u001b[0m\n\u001b[1;32m    893\u001b[0m             \u001b[0mdate_unit\u001b[0m\u001b[0;34m=\u001b[0m\u001b[0mdate_unit\u001b[0m\u001b[0;34m,\u001b[0m\u001b[0;34m\u001b[0m\u001b[0m\n\u001b[0;32m--> 894\u001b[0;31m             default_handler=default_handler)\n\u001b[0m\u001b[1;32m    895\u001b[0m \u001b[0;34m\u001b[0m\u001b[0m\n\u001b[1;32m    896\u001b[0m     \u001b[0;32mdef\u001b[0m \u001b[0mto_hdf\u001b[0m\u001b[0;34m(\u001b[0m\u001b[0mself\u001b[0m\u001b[0;34m,\u001b[0m \u001b[0mpath_or_buf\u001b[0m\u001b[0;34m,\u001b[0m \u001b[0mkey\u001b[0m\u001b[0;34m,\u001b[0m \u001b[0;34m**\u001b[0m\u001b[0mkwargs\u001b[0m\u001b[0;34m)\u001b[0m\u001b[0;34m:\u001b[0m\u001b[0;34m\u001b[0m\u001b[0m\n",
      "\u001b[0;32m/Library/Python/2.7/site-packages/pandas/io/json.pyc\u001b[0m in \u001b[0;36mto_json\u001b[0;34m(path_or_buf, obj, orient, date_format, double_precision, force_ascii, date_unit, default_handler)\u001b[0m\n\u001b[1;32m     38\u001b[0m \u001b[0;34m\u001b[0m\u001b[0m\n\u001b[1;32m     39\u001b[0m     \u001b[0;32mif\u001b[0m \u001b[0misinstance\u001b[0m\u001b[0;34m(\u001b[0m\u001b[0mpath_or_buf\u001b[0m\u001b[0;34m,\u001b[0m \u001b[0mcompat\u001b[0m\u001b[0;34m.\u001b[0m\u001b[0mstring_types\u001b[0m\u001b[0;34m)\u001b[0m\u001b[0;34m:\u001b[0m\u001b[0;34m\u001b[0m\u001b[0m\n\u001b[0;32m---> 40\u001b[0;31m         \u001b[0;32mwith\u001b[0m \u001b[0mopen\u001b[0m\u001b[0;34m(\u001b[0m\u001b[0mpath_or_buf\u001b[0m\u001b[0;34m,\u001b[0m \u001b[0;34m'w'\u001b[0m\u001b[0;34m)\u001b[0m \u001b[0;32mas\u001b[0m \u001b[0mfh\u001b[0m\u001b[0;34m:\u001b[0m\u001b[0;34m\u001b[0m\u001b[0m\n\u001b[0m\u001b[1;32m     41\u001b[0m             \u001b[0mfh\u001b[0m\u001b[0;34m.\u001b[0m\u001b[0mwrite\u001b[0m\u001b[0;34m(\u001b[0m\u001b[0ms\u001b[0m\u001b[0;34m)\u001b[0m\u001b[0;34m\u001b[0m\u001b[0m\n\u001b[1;32m     42\u001b[0m     \u001b[0;32melif\u001b[0m \u001b[0mpath_or_buf\u001b[0m \u001b[0;32mis\u001b[0m \u001b[0mNone\u001b[0m\u001b[0;34m:\u001b[0m\u001b[0;34m\u001b[0m\u001b[0m\n",
      "\u001b[0;31mIOError\u001b[0m: [Errno 2] No such file or directory: \"C:\\\\Users\\\\JoAnna\\\\political_history\\\\data/['102344'].json\""
     ]
    }
   ],
   "source": [
    "#write json objects\n",
    "map(parse_website_i, url_list_i)"
   ]
  },
  {
   "cell_type": "code",
   "execution_count": null,
   "metadata": {
    "collapsed": true
   },
   "outputs": [],
   "source": [
    "#websites requiring further parsing:\n",
    "#http://www.presidency.ucsb.edu/ws/index.php?pid=29428\n",
    "#http://www.presidency.ucsb.edu/ws/index.php?pid=29420\n",
    "#http://www.presidency.ucsb.edu/ws/index.php?pid=29419\n",
    "#http://www.presidency.ucsb.edu/ws/index.php?pid=29418\n",
    "#http://www.presidency.ucsb.edu/ws/index.php?pid=29421"
   ]
  }
 ],
 "metadata": {
  "kernelspec": {
   "display_name": "Python 2",
   "language": "python",
   "name": "python2"
  },
  "language_info": {
   "codemirror_mode": {
    "name": "ipython",
    "version": 2
   },
   "file_extension": ".py",
   "mimetype": "text/x-python",
   "name": "python",
   "nbconvert_exporter": "python",
   "pygments_lexer": "ipython2",
   "version": "2.7.10"
  }
 },
 "nbformat": 4,
 "nbformat_minor": 0
}

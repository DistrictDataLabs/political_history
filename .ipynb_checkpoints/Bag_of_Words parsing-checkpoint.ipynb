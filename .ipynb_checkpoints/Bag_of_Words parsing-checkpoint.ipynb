{
 "cells": [
  {
   "cell_type": "markdown",
   "metadata": {},
   "source": [
    "### munging json data"
   ]
  },
  {
   "cell_type": "markdown",
   "metadata": {},
   "source": [
    "To Do: \n",
    "- export dataframe  \n",
    "- tokenize words in text column\n",
    "- remove stop words  \n",
    "- stem w/ Snowball stemmer  \n",
    "- export processed data"
   ]
  },
  {
   "cell_type": "code",
   "execution_count": 24,
   "metadata": {
    "collapsed": false
   },
   "outputs": [],
   "source": [
    "import os\n",
    "import glob\n",
    "import pandas as pd\n",
    "import numpy\n",
    "LOCAL_DATA_PATH = 'C:\\Users\\JoAnna\\political_history\\data'\n",
    "LOCAL_SAVE_PATH = 'C:\\Users\\JoAnna\\political_history\\processed_data'"
   ]
  },
  {
   "cell_type": "code",
   "execution_count": 13,
   "metadata": {
    "collapsed": false
   },
   "outputs": [],
   "source": [
    "#import all json files, concatenate into pandas dataframe\n",
    "all_files = glob.glob(LOCAL_DATA_PATH + '/*.json')\n",
    "\n",
    "df = pd.concat((pd.read_json(f, orient='index') for f in all_files))\n"
   ]
  },
  {
   "cell_type": "code",
   "execution_count": 14,
   "metadata": {
    "collapsed": false
   },
   "outputs": [
    {
     "name": "stdout",
     "output_type": "stream",
     "text": [
      "213\n",
      "[u'nationaleconomy' u'laughter' u'govromney'\n",
      " u'deficitandnationaldebt/spendingcuts' u'mrlehrer' u'thepresident'\n",
      " u'nationalcommissiononfiscalresponsibilityandreform/deficitandnationaldebt'\n",
      " u'republicanpresidentialnomineewmittromney'\n",
      " u'balancingtaxcodereformandspendingcuts/oilindustrysubsidies/corporatetaxdeductions'\n",
      " u'energysectorsubsidies/corporatetaxrates/medicaid'\n",
      " u'socialsecurity/medicare' u'healthcareforseniorcitizens/medicare'\n",
      " u'education/taxcodereform/energy'\n",
      " u'federalregulations/dodd-frankwallstreetreformandconsumerprotectionact'\n",
      " u'dodd-frankwallstreetreformandconsumerprotectionact/homeloanindustry'\n",
      " u'patientprotectionandaffordablecareact'\n",
      " u'economicconcerns/jobtraining/taxcodereform/energy'\n",
      " u'massachusettshealthcarereform/bipartisanship/medicare/patientprotectionandaffordablecareact'\n",
      " u'healthcarereform/patientprotectionandaffordablecareact/preexistingmedicalconditions'\n",
      " u'taxcodereform/preexistingmedicalconditions'\n",
      " u'roleofthefederalgovernment'\n",
      " u'federalroleineducation/educationreform/communitycolleges/studentloanprograms'\n",
      " u'energysectorsubsidies/educationreform' u'taxrelief/taxcodereform'\n",
      " u'roleofthefederalgovernment/bipartisanship/presidentialleadership'\n",
      " u'jimlehrer' u'closingstatements' u'mrromney'\n",
      " u'taxcodereform/smallbusinesspromotion'\n",
      " u'smallbusinesspromotion/taxcodereform/jobcreation' u'raddatz'\n",
      " u'vicepresidentjosephbiden' u'biden' u'ryan' u'representativepaulryan'\n",
      " u'education/collegeaffordability/jobcreationandgrowth' u'mscrowley'\n",
      " u'gasolineprices/oilandgasproduction/alternativeenergysources'\n",
      " u'taxratesanddeductions' u'q' u\"taxrates/governorromney'seconomicplatform\"\n",
      " u'taxrates/jobcreationandgrowth' u'budgetaryeffectsoftaxcuts'\n",
      " u'genderdiscrimination/wageequality/education'\n",
      " u'genderdiscrimination/wageequality/nationaleconomy'\n",
      " u\"wagediscrimination/contraceptionandfamilyplanning/women'shealthissues\"\n",
      " u'jobcreationandgrowth/education/domesticenergysources/deficitandnationaldebt'\n",
      " u'contraceptionandfamilyplanning/administrationofformerpresidentgeorgewbush/energy/trade/federalbudget/smallbusinesspromotionefforts'\n",
      " u\"jobcreationandgrowth/governorromney'seconomicandsocialplatforms\"\n",
      " u\"thepresident'saccomplishments/governorromney'seconomicandsocialplatforms\"\n",
      " u'economicconcerns/unemploymentrate'\n",
      " u'immigrationreform/illegalimmigration'\n",
      " u'joblosses/jobcreationandgrowth/automobileindustry'\n",
      " u\"arizona'sillegalimmigrantenforcementlegislation/immigrationreform/investmentinforeignfirms\"\n",
      " u\"arizona'sillegalimmigrantenforcementlegislation/immigrationreform\"\n",
      " u'mscrowley\\u2014' u\"automobileindustry/governorromney'seconomicplatform\"\n",
      " u'attackonusmissioninbenghazi,libya/terrorism'\n",
      " u'attackonusmissioninbenghazi,libya/nationalsecurity'\n",
      " u'attackonusmissioninbenghazi,libya'\n",
      " u\"attackonusmissioninbenghazi,libya/thepresident'sremarksofseptember12,2012\"\n",
      " u'thepresident\\u2014'\n",
      " u'secondamendmentrights/guncontrol/reducingcommunityviolence'\n",
      " u\"guncontrol/reducingcommunityviolence/bureauofalcohol,tobacco,firearmsandexplosives'fastandfuriousprogram\"\n",
      " u'govromney\\u2014' u'guncontrol/bipartisanship'\n",
      " u'guncontrol/reducingcommunityviolence'\n",
      " u'globalcompetitiveness/chinesemonetarypolicy'\n",
      " u'domesticenergysources/alternativeenergysources'\n",
      " u'corporatetaxreform/globalcompetitiveness'\n",
      " u'chinesemonetarypolicy/globalcompetitiveness'\n",
      " u'manufacturingindustry/globalcompetitiveness'\n",
      " u'2012presidentialelection/perceptionofcandidates'\n",
      " u'oilandgasproductiononpublicland/domesticenergysources'\n",
      " u'oilandgasproductiononpublicland/gasolineprices'\n",
      " u'situationinthemiddleeastandnorthafrica/alqaidaterroristorganization'\n",
      " u'mrschieffer' u'arabspring/nationaleconomy/usglobalinfluence'\n",
      " u\"governorromney'sforeignpolicyagenda/nationaleconomy/usarmedforces\"\n",
      " u\"thepresident'sforeignpolicyagenda/nationaleconomy\"\n",
      " u'counterterrorismefforts/libya'\n",
      " u'smallbusinesspromotionefforts/education' u'education'\n",
      " u'govromney\\u2014\\u2014' u'deficitandnationaldebt'\n",
      " u'militarybudget/deficitandnationaldebt'\n",
      " u'counterterrorismefforts/situationinthemiddleeastandnorthafrica'\n",
      " u'deficitandnationaldebt/usarmedforces/militarybudget' u'israel/iran'\n",
      " u'iran' u\"iran/thepresident'sforeignpolicyagenda\"\n",
      " u\"israel/thepresident'sforeignpolicyagenda\"\n",
      " u\"governorromney'sforeignpolicyagenda/thepresident'sforeignpolicyagenda\"\n",
      " u\"governorromney'sforeignpolicyagenda\" u'afghanistan/pakistan'\n",
      " u'afghanistan/pakistan/veterans' u'pakistan'\n",
      " u\"counterterrorism/thepresident'sforeignpolicyagenda\"\n",
      " u'counterterrorism/democracypromotion' u'china'\n",
      " u'globalcompetitiveness/china' u'usautomobileindustry'\n",
      " u'situationinthemiddleeast/russia/iraq' u'globalcompetitiveness'\n",
      " u\"thepresident'seconomicrecord\" u\"thepresident'sforeignpolicyagenda\"\n",
      " u'syria' u'syria/libya' u'arabspring/egypt/nationaleconomy' u'moderator'\n",
      " u'holt' u'clinton' u'trump' u'quijano' u'kaine' u'pence' u'moderators'\n",
      " u'cooper' u'question' u'wallace' u'bush' u'gore' u'memberofaudience'\n",
      " u'lieberman' u'cheney' u'ifill' u'edwards' u'homelandsecurity'\n",
      " u'senatorkerry' u'presidentbush' u\"senator'shealthcareplan\"\n",
      " u'socialsecurity' u'immigration/bordersecurity'\n",
      " u'minimumwage/education/jobs' u'judicialnominations/educationfunding'\n",
      " u'addressingtheneedsofthemilitary' u'assaultweaponsban'\n",
      " u'fluvaccineshortage/healthcare' u'affirmativeaction' u\"candidates'faith\"\n",
      " u'eraofdivisiveness' u'wivesanddaughtersofthecandidates'\n",
      " u'payingfornewfederalspending/taxes' u'jobs/education' u'outsourcingjobs'\n",
      " u'senatorjohnfkerry' u'same-sexmarriage' u'abortion' u'roe'\n",
      " u'healthcarecosts' u'applause' u'postwariraq'\n",
      " u\"candidates'candorandconsistency\" u'harddecisions/supportforthemilitary'\n",
      " u'timelineforwithdrawalfromiraq/conditionsiniraq'\n",
      " u'futureusmilitaryaction' u'preemptiveaction/internationalcooperation'\n",
      " u'likelihoodoffutureterroristattack' u'northkoreaandiran' u'iran/sudan'\n",
      " u'characterofthecandidates' u'nuclearproliferation'\n",
      " u'presidentvladimirputinofrussia' u\"president'sjudgmentonforeignpolicy\"\n",
      " u'prioritiesinthewaronterror' u'preventingfutureterroristattacks'\n",
      " u'criteriaforwithdrawalofustroopsfromiraq'\n",
      " u'planningandinternationalcooperationiniraq' u'consistentleadership'\n",
      " u'mrgibson' u'terroristattacks/homelandsecurity' u'annbronsing'\n",
      " u'drugimportsfromcanada/healthcare' u'johnhorstman' u'tortreform'\n",
      " u'norma-jeanlaurent' u'federaldeficit' u\"matthewo'brien\"\n",
      " u'iraqiweaponsofmassdestruction' u'robindahle' u'taxes' u'jamesvarner'\n",
      " u'mrdahle'\n",
      " u'actionontheenvironment/kyotoprotocoltotheunitednationsframeworkconventiononclimatechange'\n",
      " u'jameshubb' u'tradecompetitiveness/jobs/taxes' u'janebarrow'\n",
      " u'patriotact' u'robfowler' u'embryonicstemcellresearch' u'elizabethlong'\n",
      " u'supremecourt' u'jonathanmichaelson' u'dredscott'\n",
      " u'federalfundingofabortions' u'sarahdegenhart'\n",
      " u'presidentialdecisionmaking/fundingustroops' u'lindagrabel'\n",
      " u'iraq/waronterror' u'anthonybaldi' u'cherylotis'\n",
      " u\"president'sdecisionmakingoniraq\" u'nikkiwashington' u'iran/northkorea'\n",
      " u'randeejacobs' u'possibilityofreinstatingthedraft' u'danielfarley'\n",
      " u'lehrer' u'obama' u'mccain' u'palin' u'brokaw' u'schieffer']\n"
     ]
    }
   ],
   "source": [
    "#from speaker: strip spaces and special characters, make lowercase\n",
    "df.speaker = df.speaker.str.strip().str.lower().str.replace(' ','').str.replace('.', '').str.replace(':','')\n",
    "\n",
    "#get list of unique values for speaker\n",
    "unique_speaker = pd.unique(df.speaker.ravel())\n",
    "#print len(unique_speaker)\n",
    "#print unique_speaker"
   ]
  },
  {
   "cell_type": "code",
   "execution_count": 19,
   "metadata": {
    "collapsed": false
   },
   "outputs": [],
   "source": [
    "#map list of candidates to political party\n",
    "speaker_to_party = {'trump': 'Republican',\n",
    "                    'clinton': 'Democrat',\n",
    "                    'pence': 'Republican',\n",
    "                    'kaine': 'Democrat',\n",
    "                    'republicanpresidentialnomineewmittromney': 'Republican',\n",
    "                    'govromney': 'Republican',\n",
    "                    'thepresident\\u2014': 'Republican',\n",
    "                    'govromney\\u2014': 'Republican',\n",
    "                    'govromney\\u2014\\u2014': 'Republican',\n",
    "                    'thepresident': 'Democrat',\n",
    "                    'representativepaulryan': 'Republican',\n",
    "                    'ryan': 'Republican',\n",
    "                    'vicepresidentjosephbiden': 'Democrat',\n",
    "                    'biden': 'Democrat',\n",
    "                    'mccain': 'Republican',\n",
    "                    'obama': 'Democrat',\n",
    "                    'palin': 'Republican',\n",
    "                    'presidentbush': 'Republican',\n",
    "                    'senatorjohnfkerry': 'Democrat',\n",
    "                    'senatorkerry': 'Democrat',\n",
    "                    'cheney': 'Republican',\n",
    "                    'edwards': 'Democrat',\n",
    "                    'bush': 'Republican',\n",
    "                    'gore': 'Democrat',\n",
    "                    'lieberman': 'Democrat'}\n",
    "\n",
    "#make new column in dataframe for affiliation\n",
    "df['affiliation'] = df['speaker']\n",
    "df['affiliation'].replace(speaker_to_party, inplace=True)"
   ]
  },
  {
   "cell_type": "code",
   "execution_count": 20,
   "metadata": {
    "collapsed": false
   },
   "outputs": [
    {
     "name": "stdout",
     "output_type": "stream",
     "text": [
      "          date    speaker                                               text  \\\n",
      "100 2012-10-03  govromney                                          You bet.    \n",
      "103 2012-10-03  govromney   Well, good. I'm glad you raised that, and it'...   \n",
      "104 2012-10-03  govromney  So how do we deal with it? Well, mathematicall...   \n",
      "105 2012-10-03  govromney  The President would prefer raising taxes. I un...   \n",
      "106 2012-10-03  govromney  What things would I cut from spending? Well, f...   \n",
      "108 2012-10-03  govromney   Good. Okay, good. So I'll get rid of that. I'...   \n",
      "109 2012-10-03  govromney  Number two, I'll take programs that are curren...   \n",
      "110 2012-10-03  govromney  Number three, I'll make Government more effici...   \n",
      "111 2012-10-03  govromney  This is the approach we have to take to get Am...   \n",
      "125 2012-10-03  govromney   Simpson-Bowles, the President should have gra...   \n",
      "\n",
      "                                                 title affiliation  \n",
      "100  Barack Obama: Presidential Debate in Denver, C...  Republican  \n",
      "103  Barack Obama: Presidential Debate in Denver, C...  Republican  \n",
      "104  Barack Obama: Presidential Debate in Denver, C...  Republican  \n",
      "105  Barack Obama: Presidential Debate in Denver, C...  Republican  \n",
      "106  Barack Obama: Presidential Debate in Denver, C...  Republican  \n",
      "108  Barack Obama: Presidential Debate in Denver, C...  Republican  \n",
      "109  Barack Obama: Presidential Debate in Denver, C...  Republican  \n",
      "110  Barack Obama: Presidential Debate in Denver, C...  Republican  \n",
      "111  Barack Obama: Presidential Debate in Denver, C...  Republican  \n",
      "125  Barack Obama: Presidential Debate in Denver, C...  Republican  \n"
     ]
    }
   ],
   "source": [
    "#create two new dataframes, one for republicans, one for democrats\n",
    "republican_df = df.loc[df['affiliation'] == 'Republican']\n",
    "democrat_df = df.loc[df['affiliation'] == 'Democrat']"
   ]
  },
  {
   "cell_type": "code",
   "execution_count": 26,
   "metadata": {
    "collapsed": false
   },
   "outputs": [],
   "source": [
    "#export new dataframes for others to use\n",
    "directory_name = LOCAL_SAVE_PATH\n",
    "base_filename = 'republican'\n",
    "suffix = '.pkl'\n",
    "save_path = os.path.join(directory_name, base_filename + suffix)\n",
    "republican_df.to_pickle(save_path)\n",
    "\n",
    "base_filename = 'democrat'\n",
    "save_path = os.path.join(directory_name, base_filename + suffix)\n",
    "democrat_df.to_pickle(save_path)"
   ]
  },
  {
   "cell_type": "code",
   "execution_count": 27,
   "metadata": {
    "collapsed": false
   },
   "outputs": [
    {
     "name": "stdout",
     "output_type": "stream",
     "text": [
      "          date       speaker  \\\n",
      "107 2012-10-03  thepresident   \n",
      "113 2012-10-03  thepresident   \n",
      "114 2012-10-03  thepresident   \n",
      "115 2012-10-03  thepresident   \n",
      "116 2012-10-03  thepresident   \n",
      "\n",
      "                                                  text  \\\n",
      "107                                        I like it.    \n",
      "113   When I walked into the Oval Office I had more...   \n",
      "114  And despite that, what we've said is, yes, we ...   \n",
      "115  We went after medical fraud in Medicare and Me...   \n",
      "116  Now, we all know that we've got to do more, an...   \n",
      "\n",
      "                                                 title affiliation  \n",
      "107  Barack Obama: Presidential Debate in Denver, C...    Democrat  \n",
      "113  Barack Obama: Presidential Debate in Denver, C...    Democrat  \n",
      "114  Barack Obama: Presidential Debate in Denver, C...    Democrat  \n",
      "115  Barack Obama: Presidential Debate in Denver, C...    Democrat  \n",
      "116  Barack Obama: Presidential Debate in Denver, C...    Democrat  \n"
     ]
    }
   ],
   "source": [
    "#read pickled data\n",
    "#test_df = pd.read_pickle('C:\\Users\\JoAnna\\political_history\\processed_data\\democrat.pkl')\n",
    "#print test_df.head()"
   ]
  },
  {
   "cell_type": "code",
   "execution_count": null,
   "metadata": {
    "collapsed": true
   },
   "outputs": [],
   "source": []
  }
 ],
 "metadata": {
  "kernelspec": {
   "display_name": "Python 2",
   "language": "python",
   "name": "python2"
  },
  "language_info": {
   "codemirror_mode": {
    "name": "ipython",
    "version": 2
   },
   "file_extension": ".py",
   "mimetype": "text/x-python",
   "name": "python",
   "nbconvert_exporter": "python",
   "pygments_lexer": "ipython2",
   "version": "2.7.11"
  }
 },
 "nbformat": 4,
 "nbformat_minor": 0
}
